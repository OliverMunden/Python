{
 "cells": [
  {
   "cell_type": "markdown",
   "metadata": {
    "collapsed": true
   },
   "source": [
    "#  Module 3 Project  \n",
    "Course 40460: Introduction to Python, Unit 1 \n",
    "\n",
    "The activity is based on Modules 1 - 3 and is similar to the Jupyter Notebook for Module 3 practice, which you may have completed.\n",
    "\n",
    "> **NOTE:** This program requires the use of **`if, elif, else`**, and casting between strings and numbers. The program should use the various code syntax covered in Module 3.  \n",
    ">  \n",
    ">The program must result in print output using numeric input similar to that shown in the sample below.\n",
    "\n",
    "## Program: Cheese Order    \n",
    "\n",
    "- Set values for maximum and minimum order variables  \n",
    "- Set value for price variable\n",
    "- Get order_amount input and cast to a number  \n",
    "- Check order_amount and give message checking against  \n",
    "  - over maximum\n",
    "  - under minimum\n",
    "- Else within maximum and minimum give message with calculated price \n",
    "\n",
    "\n",
    "Sample input and output:\n",
    "```\n",
    "Enter cheese order weight (numeric value): 113\n",
    "113.0 is more than currently available stock\n",
    "```\n",
    "\n",
    "```\n",
    "Enter cheese order weight (numeric value): .15\n",
    "0.15 is below minimum order amount\n",
    "```  \n",
    "\n",
    "```\n",
    "Enter cheese order weight (numeric value): 2\n",
    "2.0 costs $15.98\n",
    "```  "
   ]
  },
  {
   "cell_type": "code",
   "execution_count": null,
   "metadata": {
    "collapsed": false
   },
   "outputs": [],
   "source": [
    "# [ ] create, call and test Cheese Order\n",
    "#def cheese_order():\n",
    "#    min = int(5)\n",
    "#    max = int(15)\n",
    "#    single_price = 0.98\n",
    "#    order_price = order_amount * \n",
    "#    order_amount = type(int(input(\"How many cheese chunks would you like. (Min = 5/ Max  = 15\")))\n",
    "#    if order_amount < 5:\n",
    "#        print(order_amount, \"is below minimum order amount\")\n",
    "#    elif order amount > 15:\n",
    "#        print(order_amount, \"is over maximum order amount\")\n",
    "#    elif order amount \n",
    "\n",
    "type(int(input(\"How many cheese chunks would you like. (Min = 5/ Max  = 15\")))"
   ]
  },
  {
   "cell_type": "markdown",
   "metadata": {},
   "source": [
    "[Terms of use](http://go.microsoft.com/fwlink/?LinkID=206977) &nbsp; [Privacy & cookies](https://go.microsoft.com/fwlink/?LinkId=521839) &nbsp; © 2017 Microsoft"
   ]
  }
 ],
 "metadata": {
  "anaconda-cloud": {},
  "kernelspec": {
   "display_name": "Python 3",
   "language": "python",
   "name": "python3"
  },
  "language_info": {
   "codemirror_mode": {
    "name": "ipython",
    "version": 3
   },
   "file_extension": ".py",
   "mimetype": "text/x-python",
   "name": "python",
   "nbconvert_exporter": "python",
   "pygments_lexer": "ipython3",
   "version": "3.5.1"
  }
 },
 "nbformat": 4,
 "nbformat_minor": 0
}
