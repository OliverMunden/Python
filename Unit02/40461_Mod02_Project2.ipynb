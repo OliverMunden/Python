{
  "cells": [
    {
      "cell_type": "markdown",
      "metadata": {},
      "source": [
        "#  Module 2 Project  \n",
        "\n",
        "Course 40461: Introduction to Python, Unit 2\n",
        "\n",
        "This is an activity based on the Module 2 Lab, which you may have already completed.\n",
        "\n",
        "| Important Assignment Requirements |  \n",
        "|:-------------------------------|  \n",
        "| **NOTE:** This program requires creating a function using **`def`** and **`return`**, using **`print`** output, **`input`**, **`if`**, **`in`** keywords, **`.append()`**, **`.pop()`**, **`.remove()`** list methods.  As well as other standard Python. |   \n",
        "\n",
        "## Program: list-o-matic  \n",
        "This program takes string input and checks if that string is in a list of strings.    \n",
        "- If the string is in the list it removes the first instance from list  \n",
        "- If the string is not in the list the input gets appended to the list  \n",
        "- If the string is empty then the last item is popped from the list \n",
        "- If the **list becomes empty** the program ends  \n",
        "- If the user enters \"quit\" then the program ends  \n",
        "\n",
        "The program has two parts:  \n",
        "- **program flow** which can be modified to ask for a specific type of item.  This is the programmers choice.  Add a list of fish, trees, books, movies, songs.... your choice.  \n",
        "- **list-o-matic** Function which takes arguments of a string and a list.  The function modifies the list and returns a message as seen below.  \n",
        "\n",
        "![TODO: upload image to blob](https://q4tiyg-ch3302.files.1drv.com/y4mkvwrxHSIqinTvp_nNGFiMn_yyJ0dsEtCzPpG_hsFMRdyEED4ExPdsWmbdPIKRpgU25VxFIUAGBdz0yzqumtxw7wy_pAJMJ3MeZ6PJQKyej6UwN6N6zOmnRq6106aqvXJB43RKRJgB2oMmidb9Zl0OBjmvFVowm-XtD2wUW5bJrgd4LS8I5Nso_vXqfpNCANRYcKe4WnjIWds4KoV4sjPIg?width=717&height=603&cropmode=none)\n",
        "\n",
        "**[ ]** initialize a list with several strings at the beginning of the program flow and follow the flow chart and output examples\n",
        "\n",
        " *example input/output*  \n",
        " ```\n",
        "look at all the animals ['cat', 'goat', 'cat']\n",
        "enter the name of an animal: horse\n",
        "1 instance of horse appended to list\n",
        "\n",
        "look at all the animals ['cat', 'goat', 'cat', 'horse']\n",
        "enter the name of an animal: cat\n",
        "1 instance of cat removed from list\n",
        "\n",
        "look at all the animals ['goat', 'cat', 'horse']\n",
        "enter the name of an animal: cat\n",
        "1 instance of cat removed from list\n",
        "\n",
        "look at all the animals ['goat', 'horse']\n",
        "enter the name of an animal:          (<-- entered empty string)\n",
        "horse popped from list\n",
        "\n",
        "look at all the animals ['goat']\n",
        "enter the name of an animal:          (<-- entered empty string)\n",
        "goat popped from list\n",
        "\n",
        "Goodbye!\n",
        "```  \n",
        "\n",
        "*example 2*\n",
        "```\n",
        "look at all the animals ['cat', 'goat', 'cat']\n",
        "enter the name of an animal: Quit\n",
        "Goodbye!\n",
        "```  \n",
        "\n"
      ]
    },
    {
      "cell_type": "code",
      "execution_count": 5,
      "metadata": {
        "collapsed": true,
        "trusted": false
      },
      "outputs": [
        {
          "name": "stdout",
          "output_type": "stream",
          "text": [
            "look at all the animals: ['cat', 'Goat', 'Horse']\n",
            "1 instance of cat quiiremoved from list\n",
            "look at all the animals: ['Goat', 'Horse']\n",
            "1 instance of Goat quiiremoved from list\n",
            "look at all the animals: ['Horse']\n",
            "1 instance of Horse quiiremoved from list\n",
            "Goodbye\n"
          ]
        }
      ],
      "source": [
        "# [] create list-o-matic\n",
        "a_list = [\"cat\", \"Goat\", \"Horse\"]\n",
        "\n",
        "def list_o_matic(animal):\n",
        "    if animal in a_list:\n",
        "        a_list.remove(animal)\n",
        "        remove_msg = \"1 instance of \" + animal + \" removed from list\"\n",
        "        return remove_msg\n",
        "    elif animal not in a_list:\n",
        "        a_list.append(animal)\n",
        "        append_msg = \"1 instance of \" + animal + \" appeneded to list\"\n",
        "        return append_msg\n",
        "    elif animal == \" \":\n",
        "        a_list.pop()\n",
        "        pop_msg = animal + \" popped from the list\"\n",
        "        return pop_msg\n",
        "\n",
        "while a_list:\n",
        "    print(\"look at all the animals:\", a_list)\n",
        "    animal = input(\"Type the name of an animal or 'quit' to exit\")\n",
        "    if animal.lower() == \"quit\":\n",
        "        break\n",
        "    else:\n",
        "        print(list_o_matic(animal))\n",
        "\n",
        "print(\"Goodbye\")\n",
        "\n",
        "\n",
        "\n"
      ]
    },
    {
      "cell_type": "markdown",
      "metadata": {},
      "source": [
        "[Terms of use](http://go.microsoft.com/fwlink/?LinkID=206977) &nbsp; [Privacy & cookies](https://go.microsoft.com/fwlink/?LinkId=521839) &nbsp; © 2017 Microsoft"
      ]
    }
  ],
  "metadata": {
    "anaconda-cloud": {},
    "kernelspec": {
      "display_name": "Python 3",
      "language": "python",
      "name": "python3"
    },
    "language_info": {
      "codemirror_mode": {
        "name": "ipython",
        "version": 3
      },
      "file_extension": ".py",
      "mimetype": "text/x-python",
      "name": "python",
      "nbconvert_exporter": "python",
      "pygments_lexer": "ipython3",
      "version": "3.8.13"
    },
    "vscode": {
      "interpreter": {
        "hash": "9ac03a0a6051494cc606d484d27d20fce22fb7b4d169f583271e11d5ba46a56e"
      }
    }
  },
  "nbformat": 4,
  "nbformat_minor": 1
}
